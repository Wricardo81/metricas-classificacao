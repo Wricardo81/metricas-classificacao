{
  "nbformat": 4,
  "nbformat_minor": 0,
  "metadata": {
    "colab": {
      "provenance": [],
      "gpuType": "T4"
    },
    "kernelspec": {
      "name": "python3",
      "display_name": "Python 3"
    },
    "language_info": {
      "name": "python"
    },
    "accelerator": "GPU"
  },
  "cells": [
    {
      "cell_type": "code",
      "source": [
        "# Valores arbitrários da matriz de confusão\n",
        "VP = 70  # Verdadeiros Positivos\n",
        "VN = 50  # Verdadeiros Negativos\n",
        "FP = 10  # Falsos Positivos\n",
        "FN = 20  # Falsos Negativos\n",
        "\n",
        "# Cálculo das métricas\n",
        "def calcular_metricas(VP, VN, FP, FN):\n",
        "    acuracia = (VP + VN) / (VP + VN + FP + FN)\n",
        "    precisao = VP / (VP + FP) if (VP + FP) != 0 else 0\n",
        "    sensibilidade = VP / (VP + FN) if (VP + FN) != 0 else 0\n",
        "    especificidade = VN / (VN + FP) if (VN + FP) != 0 else 0\n",
        "    f1_score = (2 * precisao * sensibilidade) / (precisao + sensibilidade) if (precisao + sensibilidade) != 0 else 0\n",
        "\n",
        "    return {\n",
        "        \"Acurácia\": round(acuracia, 4),\n",
        "        \"Precisão\": round(precisao, 4),\n",
        "        \"Sensibilidade (Recall)\": round(sensibilidade, 4),\n",
        "        \"Especificidade\": round(especificidade, 4),\n",
        "        \"F1-Score\": round(f1_score, 4)\n",
        "    }\n",
        "\n",
        "# Mostrar os resultados\n",
        "resultados = calcular_metricas(VP, VN, FP, FN)\n",
        "for k, v in resultados.items():\n",
        "    print(f\"{k}: {v}\")\n"
      ],
      "metadata": {
        "colab": {
          "base_uri": "https://localhost:8080/"
        },
        "id": "1KtAEQJvIkiA",
        "outputId": "0d8d3840-aef3-4911-c4f5-6b6d04b0b2d4"
      },
      "execution_count": 2,
      "outputs": [
        {
          "output_type": "stream",
          "name": "stdout",
          "text": [
            "Acurácia: 0.8\n",
            "Precisão: 0.875\n",
            "Sensibilidade (Recall): 0.7778\n",
            "Especificidade: 0.8333\n",
            "F1-Score: 0.8235\n"
          ]
        }
      ]
    }
  ]
}